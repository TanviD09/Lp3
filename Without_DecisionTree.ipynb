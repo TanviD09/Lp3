{
 "cells": [
  {
   "cell_type": "code",
   "execution_count": 5,
   "id": "51b5eb4d",
   "metadata": {},
   "outputs": [],
   "source": [
    "import pandas as pd\n",
    "import numpy as np\n",
    "from itertools import chain, combinations"
   ]
  },
  {
   "cell_type": "code",
   "execution_count": 6,
   "id": "5133e25c",
   "metadata": {},
   "outputs": [],
   "source": [
    "class Node:\n",
    "  def __init__(self, col, dtype, values = None):\n",
    "    self.col = col\n",
    "    self.dtype = dtype\n",
    "    if self.dtype == 'categorical':\n",
    "      assert values is not None, 'Mention values for categorical feature.'\n",
    "      self.values = values\n",
    "    else: self.values = None\n",
    "    self.yes = True\n",
    "    self.no = False\n",
    "  \n",
    "  def __str__(self):\n",
    "    return f'COLUMN: {self.col}, VALUES: {self.values},'"
   ]
  },
  {
   "cell_type": "code",
   "execution_count": 7,
   "id": "b78dec50",
   "metadata": {},
   "outputs": [],
   "source": [
    "class DecisionTree:\n",
    "  def __init__(self):\n",
    "    self.tree = None\n",
    "\n",
    "  def __gini(self, cnt):\n",
    "    total = np.sum(cnt)\n",
    "    if total == 0: return 0\n",
    "    return 1 - (cnt[0] / total) ** 2 - (cnt[1] / total) **2\n",
    "\n",
    "  def __powerset(self, iterable):\n",
    "    s = list(iterable)\n",
    "    if len(s) == 1: return [tuple(s)]\n",
    "    return list(chain.from_iterable(combinations(s, r) for r in range(len(s)+1)))[1:-1]\n",
    "\n",
    "  def __total_imp(self, true_count, false_count):\n",
    "    true_total = np.sum(true_count)\n",
    "    false_total = np.sum(false_count)\n",
    "    total = true_total + false_total\n",
    "    return (self.__gini(true_count) * true_total / total + self.__gini(false_count) * false_total / total,\n",
    "            self.__gini(true_count), self.__gini(false_count))\n",
    "\n",
    "  def __get_imp(self, feature, val, data, label_name):\n",
    "    if self.col_type[feature] == 'numerical':\n",
    "      pass\n",
    "    else:\n",
    "      true_count = [0, 0]\n",
    "      false_count = [0, 0]\n",
    "      for i in range(len(data[feature])):\n",
    "        if data[feature].iloc[i] in val:\n",
    "          if data[label_name].iloc[i]: true_count[1] += 1\n",
    "          else: true_count[0] += 1\n",
    "        else:\n",
    "          if data[label_name].iloc[i]: false_count[1] += 1\n",
    "          else: false_count[0] += 1\n",
    "      return self.__total_imp(true_count, false_count)\n",
    "  \n",
    "  def __feature_impurity(self, feature, data, label_name):\n",
    "    if self.col_type[feature] == 'numerical':\n",
    "      pass\n",
    "    else:\n",
    "      values = self.__powerset(data[feature].unique())\n",
    "      val_imp = set()\n",
    "      for val in values:\n",
    "        imp = self.__get_imp(feature, val, data, label_name)\n",
    "        val_imp.add((imp, val))\n",
    "        # print(f'Feature: {feature}, Values: {val}, Impurity: {imp[0]}')\n",
    "      return val_imp.pop()\n",
    "\n",
    "  def __build_tree(self, data, label_name, cols, par_imp = 10):\n",
    "    if len(cols) == 1: return None\n",
    "    col_imp = set()\n",
    "    for col in cols:\n",
    "      if self.col_type[col] == 'label': continue\n",
    "      col_imp.add((self.__feature_impurity(col, data, label_name), col))\n",
    "    best = col_imp.pop()\n",
    "    col = best[1]\n",
    "    if best[0][0][0] < par_imp:\n",
    "      node = Node(col, self.col_type[col], best[0][1])\n",
    "      data_yes = data[data[col].isin(list(best[0][1])) == True].drop(col, axis=1)\n",
    "      data_no = data[data[col].isin(list(best[0][1])) == False].drop(col, axis=1)\n",
    "      new_cols = list(data_yes.columns)\n",
    "      node.yes = self.__build_tree(data_yes, label_name, new_cols.copy(), best[0][0][1])\n",
    "      node.no = self.__build_tree(data_no, label_name, new_cols.copy(), best[0][0][2])\n",
    "      if node.yes is None: node.yes = True\n",
    "      if node.no is None: node.no = False\n",
    "      return node\n",
    "\n",
    "  def fit(self, df, label_name):\n",
    "    self.col_type = {}\n",
    "    self.cols = list(df.columns)\n",
    "    for col in self.cols:\n",
    "      if col == label_name: self.col_type[col] = 'label'\n",
    "      elif type(df[col][0]) == str:\n",
    "        self.col_type[col] = 'categorical'\n",
    "      else: self.col_type[col] = 'numerical'\n",
    "    self.tree = self.__build_tree(df, label_name, self.cols.copy())\n",
    "\n",
    "  def __predict(self, data, node):\n",
    "    if type(node) == bool: return node\n",
    "    \n",
    "    val = data[node.col]\n",
    "    if val in node.values: node = node.yes\n",
    "    else: node = node.no\n",
    "    \n",
    "    return self.__predict(data, node)\n",
    "\n",
    "  def predict(self, df):\n",
    "    preds = []\n",
    "    for i in range(len(df)):\n",
    "      preds.append(self.__predict(df.iloc[i], self.tree))\n",
    "    return preds"
   ]
  },
  {
   "cell_type": "code",
   "execution_count": 8,
   "id": "1d81d35c",
   "metadata": {},
   "outputs": [
    {
     "data": {
      "text/html": [
       "<div>\n",
       "<style scoped>\n",
       "    .dataframe tbody tr th:only-of-type {\n",
       "        vertical-align: middle;\n",
       "    }\n",
       "\n",
       "    .dataframe tbody tr th {\n",
       "        vertical-align: top;\n",
       "    }\n",
       "\n",
       "    .dataframe thead th {\n",
       "        text-align: right;\n",
       "    }\n",
       "</style>\n",
       "<table border=\"1\" class=\"dataframe\">\n",
       "  <thead>\n",
       "    <tr style=\"text-align: right;\">\n",
       "      <th></th>\n",
       "      <th>Age</th>\n",
       "      <th>Income</th>\n",
       "      <th>Gender</th>\n",
       "      <th>MaritialStatus</th>\n",
       "      <th>Buys</th>\n",
       "    </tr>\n",
       "  </thead>\n",
       "  <tbody>\n",
       "    <tr>\n",
       "      <th>0</th>\n",
       "      <td>&lt;21</td>\n",
       "      <td>High</td>\n",
       "      <td>Male</td>\n",
       "      <td>Single</td>\n",
       "      <td>No</td>\n",
       "    </tr>\n",
       "    <tr>\n",
       "      <th>1</th>\n",
       "      <td>&lt;21</td>\n",
       "      <td>High</td>\n",
       "      <td>Male</td>\n",
       "      <td>Married</td>\n",
       "      <td>No</td>\n",
       "    </tr>\n",
       "    <tr>\n",
       "      <th>2</th>\n",
       "      <td>21-35</td>\n",
       "      <td>High</td>\n",
       "      <td>Male</td>\n",
       "      <td>Single</td>\n",
       "      <td>Yes</td>\n",
       "    </tr>\n",
       "    <tr>\n",
       "      <th>3</th>\n",
       "      <td>&gt;35</td>\n",
       "      <td>Medium</td>\n",
       "      <td>Male</td>\n",
       "      <td>Single</td>\n",
       "      <td>Yes</td>\n",
       "    </tr>\n",
       "    <tr>\n",
       "      <th>4</th>\n",
       "      <td>&gt;35</td>\n",
       "      <td>Low</td>\n",
       "      <td>Female</td>\n",
       "      <td>Single</td>\n",
       "      <td>Yes</td>\n",
       "    </tr>\n",
       "  </tbody>\n",
       "</table>\n",
       "</div>"
      ],
      "text/plain": [
       "     Age  Income  Gender MaritialStatus Buys\n",
       "0    <21    High    Male         Single   No\n",
       "1    <21    High    Male        Married   No\n",
       "2  21-35    High    Male         Single  Yes\n",
       "3    >35  Medium    Male         Single  Yes\n",
       "4    >35     Low  Female         Single  Yes"
      ]
     },
     "execution_count": 8,
     "metadata": {},
     "output_type": "execute_result"
    }
   ],
   "source": [
    "df = pd.read_csv('data.csv')\n",
    "df.head()"
   ]
  },
  {
   "cell_type": "code",
   "execution_count": 9,
   "id": "ba995b93",
   "metadata": {},
   "outputs": [],
   "source": [
    "train_df = df[:-1].copy()\n",
    "train_df['Buys'] = train_df['Buys'] == 'Yes'"
   ]
  },
  {
   "cell_type": "code",
   "execution_count": 10,
   "id": "59c9387a",
   "metadata": {},
   "outputs": [],
   "source": [
    "test_df = df[-1:].copy().drop('Buys', axis = 1)"
   ]
  },
  {
   "cell_type": "code",
   "execution_count": 11,
   "id": "738ef6d4",
   "metadata": {},
   "outputs": [],
   "source": [
    "clf = DecisionTree()"
   ]
  },
  {
   "cell_type": "code",
   "execution_count": 12,
   "id": "983c70cc",
   "metadata": {},
   "outputs": [],
   "source": [
    "clf.fit(train_df, 'Buys')"
   ]
  },
  {
   "cell_type": "code",
   "execution_count": 13,
   "id": "b2cce0c0",
   "metadata": {},
   "outputs": [
    {
     "name": "stdout",
     "output_type": "stream",
     "text": [
      "Root: Income\n"
     ]
    }
   ],
   "source": [
    "print(f'Root: {clf.tree.col}')"
   ]
  },
  {
   "cell_type": "code",
   "execution_count": 14,
   "id": "a852b374",
   "metadata": {},
   "outputs": [
    {
     "data": {
      "text/plain": [
       "[True]"
      ]
     },
     "execution_count": 14,
     "metadata": {},
     "output_type": "execute_result"
    }
   ],
   "source": [
    "clf.predict(test_df)"
   ]
  }
 ],
 "metadata": {
  "kernelspec": {
   "display_name": "Python 3 (ipykernel)",
   "language": "python",
   "name": "python3"
  },
  "language_info": {
   "codemirror_mode": {
    "name": "ipython",
    "version": 3
   },
   "file_extension": ".py",
   "mimetype": "text/x-python",
   "name": "python",
   "nbconvert_exporter": "python",
   "pygments_lexer": "ipython3",
   "version": "3.9.12"
  }
 },
 "nbformat": 4,
 "nbformat_minor": 5
}
