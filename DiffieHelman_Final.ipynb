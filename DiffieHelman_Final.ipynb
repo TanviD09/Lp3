{
 "cells": [
  {
   "cell_type": "code",
   "execution_count": 5,
   "id": "65b02dea",
   "metadata": {},
   "outputs": [
    {
     "name": "stdout",
     "output_type": "stream",
     "text": [
      "Publicly Shared Variables:\n",
      "Publicly Shared Prime:  23\n",
      "Publicly Shared Base:  5\n",
      "\n",
      " Alice Sends Over Public Chanel:  8\n",
      " \n",
      " Bob Sends Over Public Chanel:  19\n",
      "\n",
      "------------\n",
      "\n",
      "Privately Calculated Shared Secret:\n",
      "Alice Shared Secret:  2\n",
      " Bob Shared Secret:  2\n"
     ]
    }
   ],
   "source": [
    "# Variables Used\n",
    "sharedPrime = 23\n",
    "sharedBase = 5\n",
    "aliceSecret = 6\n",
    "bobSecret = 15\n",
    "# Begin\n",
    "print( \"Publicly Shared Variables:\")\n",
    "print( \"Publicly Shared Prime: \" , sharedPrime )\n",
    "print( \"Publicly Shared Base: \" , sharedBase )\n",
    "\n",
    "# Alice Sends Bob A = g^a mod p\n",
    "A = (sharedBase**aliceSecret) % sharedPrime\n",
    "print  (\"\\n Alice Sends Over Public Chanel: \" , A )\n",
    "\n",
    "# Bob Sends Alice B = g^b mod p\n",
    "B = (sharedBase ** bobSecret) % sharedPrime\n",
    "print(\" \\n Bob Sends Over Public Chanel: \", B )\n",
    "\n",
    "print( \"\\n------------\\n\" )\n",
    "print( \"Privately Calculated Shared Secret:\" )\n",
    "# Alice Computes Shared Secret: s = B^a mod p\n",
    "aliceSharedSecret = (B ** aliceSecret) % sharedPrime\n",
    "print( \"Alice Shared Secret: \", aliceSharedSecret )\n",
    "\n",
    "bobSharedSecret = (A**bobSecret) % sharedPrime\n",
    "print( \" Bob Shared Secret: \", bobSharedSecret )\n",
    "\n",
    "\n"
   ]
  },
  {
   "cell_type": "code",
   "execution_count": null,
   "id": "027af9f4",
   "metadata": {},
   "outputs": [],
   "source": []
  }
 ],
 "metadata": {
  "kernelspec": {
   "display_name": "Python 3 (ipykernel)",
   "language": "python",
   "name": "python3"
  },
  "language_info": {
   "codemirror_mode": {
    "name": "ipython",
    "version": 3
   },
   "file_extension": ".py",
   "mimetype": "text/x-python",
   "name": "python",
   "nbconvert_exporter": "python",
   "pygments_lexer": "ipython3",
   "version": "3.9.12"
  }
 },
 "nbformat": 4,
 "nbformat_minor": 5
}
