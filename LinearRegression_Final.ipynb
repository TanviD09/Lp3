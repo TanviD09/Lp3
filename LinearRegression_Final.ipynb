{
 "cells": [
  {
   "cell_type": "code",
   "execution_count": 2,
   "id": "d2f5eb1e",
   "metadata": {},
   "outputs": [
    {
     "name": "stdout",
     "output_type": "stream",
     "text": [
      "Accuracy : 43.709481451010035\n",
      "[49.28781684]\n",
      "Enter the no of hours:10\n",
      "y = 4.587899*10.000000+12.584628\n",
      "Risk Score :  58.4636140637776\n"
     ]
    },
    {
     "data": {
      "image/png": "[encoded data removed]",
      "text/plain": [
       "<Figure size 432x288 with 1 Axes>"
      ]
     },
     "metadata": {
      "needs_background": "light"
     },
     "output_type": "display_data"
    }
   ],
   "source": [
    "import matplotlib.pyplot as plt\n",
    "import pandas as pd\n",
    "\n",
    "# Read Dataset\n",
    "dataset=pd.read_csv(\"hours.csv\")\n",
    "X=dataset.iloc[:,:-1].values\n",
    "y=dataset.iloc[:,1].values\n",
    "\n",
    "# Import the Linear Regression and Create object of it\n",
    "from sklearn.linear_model import LinearRegression\n",
    "regressor=LinearRegression()\n",
    "regressor.fit(X,y)\n",
    "print (\"Accuracy :\", regressor.score(X, y)*100)\n",
    "#print(\"Accuracy :\")\n",
    "#print(Accuracy)\n",
    "\n",
    "# Predict the value using Regressor Object\n",
    "y_pred=regressor.predict([[8]])\n",
    "print(y_pred)\n",
    "\n",
    "# Take user input\n",
    "hours=int(input('Enter the no of hours:'))\n",
    "\n",
    "#calculate the value of y\n",
    "eq=regressor.coef_*hours+regressor.intercept_\n",
    "print ('y = %f*%f+%f' %(regressor.coef_,hours,regressor.intercept_))\n",
    "#print(\"y :\")\n",
    "#print(y)\n",
    "print(\"Risk Score : \", eq[0])\n",
    "plt.plot(X,y,'o')\n",
    "plt.plot(X,regressor.predict(X));\n",
    "plt.show()\n"
   ]
  },
  {
   "cell_type": "code",
   "execution_count": 3,
   "id": "2262af9c",
   "metadata": {},
   "outputs": [
    {
     "data": {
      "text/plain": [
       "array([58.46361406])"
      ]
     },
     "execution_count": 3,
     "metadata": {},
     "output_type": "execute_result"
    }
   ],
   "source": [
    "eq"
   ]
  },
  {
   "cell_type": "code",
   "execution_count": null,
   "id": "bf429209",
   "metadata": {},
   "outputs": [],
   "source": []
  }
 ],
 "metadata": {
  "kernelspec": {
   "display_name": "Python 3 (ipykernel)",
   "language": "python",
   "name": "python3"
  },
  "language_info": {
   "codemirror_mode": {
    "name": "ipython",
    "version": 3
   },
   "file_extension": ".py",
   "mimetype": "text/x-python",
   "name": "python",
   "nbconvert_exporter": "python",
   "pygments_lexer": "ipython3",
   "version": "3.9.12"
  }
 },
 "nbformat": 4,
 "nbformat_minor": 5
}
