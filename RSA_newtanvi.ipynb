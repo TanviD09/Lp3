{
 "cells": [
  {
   "cell_type": "code",
   "execution_count": 11,
   "id": "0be19b72",
   "metadata": {
    "id": "0be19b72"
   },
   "outputs": [],
   "source": [
    "import numpy as np"
   ]
  },
  {
   "cell_type": "code",
   "execution_count": 12,
   "id": "09adf6b9",
   "metadata": {
    "id": "09adf6b9"
   },
   "outputs": [],
   "source": [
    "P = 53\n",
    "Q = 59\n",
    "n = P * Q\n",
    "fin = (P - 1) * (Q - 1)\n",
    "e = 3\n",
    "\n",
    "def generated():\n",
    "  for i in range(1, fin):\n",
    "    if (i * fin + 1) % e == 0:\n",
    "      return (i * fin + 1) // e\n",
    "  return None\n",
    "\n",
    "d = generated()\n",
    "\n",
    "def getpublickey():\n",
    "  return n, e\n",
    "\n",
    "def encrypt(plaintext):\n",
    "  return (plaintext ** e) % n\n",
    "\n",
    "def decrypt(ciphertext):\n",
    "  return (ciphertext ** d) % n"
   ]
  },
  {
   "cell_type": "code",
   "execution_count": 13,
   "id": "1bc47c82",
   "metadata": {
    "colab": {
     "base_uri": "https://localhost:8080/"
    },
    "id": "1bc47c82",
    "outputId": "0a80214f-3494-478c-f3b7-5a3118281bba"
   },
   "outputs": [
    {
     "name": "stdout",
     "output_type": "stream",
     "text": [
      "Public-Key: (3127, 3)\n"
     ]
    }
   ],
   "source": [
    "print(f'Public-Key: {getpublickey()}')\n",
    "ciphertext = encrypt(89)"
   ]
  },
  {
   "cell_type": "code",
   "execution_count": 14,
   "id": "5abdfa64",
   "metadata": {
    "colab": {
     "base_uri": "https://localhost:8080/"
    },
    "id": "5abdfa64",
    "outputId": "9d2a0d3a-528f-418c-d721-66e809071a71"
   },
   "outputs": [
    {
     "name": "stdout",
     "output_type": "stream",
     "text": [
      "Encrypted value of 1394\n"
     ]
    }
   ],
   "source": [
    "print(f'Encrypted value of', ciphertext)"
   ]
  },
  {
   "cell_type": "code",
   "execution_count": 15,
   "id": "4d7cd830",
   "metadata": {
    "colab": {
     "base_uri": "https://localhost:8080/"
    },
    "id": "4d7cd830",
    "outputId": "4e8e1719-60e9-443c-ea43-85c243e9bb2d"
   },
   "outputs": [
    {
     "name": "stdout",
     "output_type": "stream",
     "text": [
      "Decrypted value of 89\n"
     ]
    }
   ],
   "source": [
    "print(f'Decrypted value of' , decrypt(ciphertext))"
   ]
  },
  {
   "cell_type": "code",
   "execution_count": null,
   "id": "7c8b161a",
   "metadata": {
    "id": "7c8b161a"
   },
   "outputs": [],
   "source": []
  }
 ],
 "metadata": {
  "colab": {
   "collapsed_sections": [],
   "name": "RSA new.ipynb",
   "provenance": []
  },
  "kernelspec": {
   "display_name": "Python 3 (ipykernel)",
   "language": "python",
   "name": "python3"
  },
  "language_info": {
   "codemirror_mode": {
    "name": "ipython",
    "version": 3
   },
   "file_extension": ".py",
   "mimetype": "text/x-python",
   "name": "python",
   "nbconvert_exporter": "python",
   "pygments_lexer": "ipython3",
   "version": "3.9.12"
  }
 },
 "nbformat": 4,
 "nbformat_minor": 5
}
